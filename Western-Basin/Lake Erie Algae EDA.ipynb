{
 "cells": [
  {
   "cell_type": "code",
   "execution_count": 1,
   "metadata": {},
   "outputs": [],
   "source": [
    "# import necessary libraries\n",
    "import os\n",
    "import pandas as pd\n",
    "import numpy as np\n",
    "import matplotlib.pyplot as plt\n",
    "import seaborn as sns\n",
    "import difflib\n",
    "\n",
    "# for fuzzy matching variable names for various NOAA data sets\n",
    "from fuzzywuzzy import fuzz\n",
    "import re \n",
    "\n",
    "# To view dictionaries in a nicer format!\n",
    "import pprint\n",
    "\n",
    "# For datetime\n",
    "from datetime import datetime\n",
    "\n",
    "# To calculate ECDF\n",
    "from statsmodels.distributions.empirical_distribution import ECDF\n",
    "\n",
    "%matplotlib inline \n",
    "\n",
    "# libraries for geographic visualization \n",
    "# import OSMPythonTools as osm\n",
    "# from mpl_toolkits.basemap import Basemap\n",
    "# _geoslib module missing for the mpl_toolkits.basemap import\n",
    "\n",
    "# Cite when you use cartopy \n",
    "import cartopy "
   ]
  },
  {
   "cell_type": "code",
   "execution_count": 2,
   "metadata": {},
   "outputs": [],
   "source": [
    "from IPython.display import display\n",
    "\n",
    "pd.options.display.max_columns = None"
   ]
  },
  {
   "cell_type": "code",
   "execution_count": 3,
   "metadata": {},
   "outputs": [
    {
     "name": "stdout",
     "output_type": "stream",
     "text": [
      "C:\\Users\\wlang\\Documents\\UW files\\Research\\Great Lakes Data\n"
     ]
    }
   ],
   "source": [
    "print(os.getcwd())"
   ]
  },
  {
   "cell_type": "markdown",
   "metadata": {},
   "source": [
    "# NOAA Data\n",
    "\n",
    "First, we will read in and clean NOAA data for the western basin of Lake Erie.\n",
    "\n",
    "## Concatenate Data Sets"
   ]
  },
  {
   "cell_type": "code",
   "execution_count": null,
   "metadata": {},
   "outputs": [],
   "source": [
    "# Compare NOAA data sets - do all the different sets have the same format?\n",
    "# First look at one station\n",
    "\n",
    "WE02_2014 = pd.read_csv('NOAA Western Lake Erie\\WE02\\WE02_2014_annual_summary.csv', na_values='NAN', skiprows=[1, 2])\n",
    "WE02_2015 = pd.read_csv('NOAA Western Lake Erie\\WE02\\WE02_2015_annual_summary.csv', na_values='NAN', skiprows=[1, 2])"
   ]
  },
  {
   "cell_type": "code",
   "execution_count": null,
   "metadata": {},
   "outputs": [],
   "source": [
    "print(WE02_2014.shape, WE02_2015.shape)\n",
    "# Different shapes\n",
    "\n",
    "print('Intersection of variables: ', list(set(list(WE02_2014.columns)).intersection(list(WE02_2015.columns))))\n",
    "\n",
    "print('Variables in 2014 not in 2015:')\n",
    "print(np.setdiff1d(list(WE02_2014.columns), list(WE02_2015.columns)))\n",
    "\n",
    "print('Variables in 2015 not in 2014:')\n",
    "print(np.setdiff1d(list(WE02_2015.columns), list(WE02_2014.columns)))"
   ]
  },
  {
   "cell_type": "markdown",
   "metadata": {},
   "source": [
    "It seems that the NOAA data sets don't have a set format/convention for variable naming nor do they have a uniform set of variables. I will stil combine the data sets for the sake of data visualization - it's easier to have all the data within one set. \n",
    "\n",
    "Some variable names vary due to small details such as capitalization ex. ph, pH. To (hopefully) merge these columns together when concatenating the data sets, I will set all column names to lowercase.\n",
    "\n",
    "Moored buoy data sets have coordinates stated in a separate data set! I will add latitude and longitude to the moored buoys' data sets first."
   ]
  },
  {
   "cell_type": "code",
   "execution_count": 4,
   "metadata": {},
   "outputs": [],
   "source": [
    "## read in all data sets\n",
    "# also add coordinate data to the buoy data! Format in terms of longitude, latitude\n",
    "# Coordinate files for moored buoys should just be ONE set of coordinates \n",
    "\n",
    "# Function taken from stack overflow\n",
    "def is_unique(coords):\n",
    "    coords_np = coords.to_numpy() \n",
    "    return (coords_np[0] == coords_np).all()\n",
    "\n",
    "# Check if there are multiple coordinates for moored buoys. If there are, check if the coordinates differ\n",
    "def get_coords(coord_df):\n",
    "    if coord_df.shape[0] == 1:\n",
    "        return(coord_df)\n",
    "    else:\n",
    "        if is_unique(coord_df):\n",
    "            coord_df = coord_df.iloc[[0],]\n",
    "            return(coord_df)\n",
    "        else: \n",
    "            raise Exception('There should only be one unique set of coordinates for moored buoys. There are {} sets of coordinates'.\n",
    "                            format(coord_df.drop_duplicates().shape[0]))"
   ]
  },
  {
   "cell_type": "code",
   "execution_count": 5,
   "metadata": {},
   "outputs": [],
   "source": [
    "noaa_folder = 'NOAA Western Lake Erie'\n",
    "noaa_locs = ['WE02', 'WE04', 'WE08', 'WE13', 'Small_boat_2012_2018', 'Small_boat_2019']\n",
    "\n",
    "# Dictionary to store lake data\n",
    "NOAA_sets = {} \n",
    "\n",
    "# Dictionary to store lake coordinates\n",
    "NOAA_coords = {}\n",
    "\n",
    "# Dictionary to store measurement unit details and apparatuses\n",
    "dataset_measure_details = {}\n",
    "\n",
    "# Read in files \n",
    "for location in noaa_locs: \n",
    "    \n",
    "    noaa_dir = os.path.join(os.getcwd(), noaa_folder, location)\n",
    "    \n",
    "    # Look through directory defined in noaa_dir\n",
    "    for (root,dirs,files) in os.walk(noaa_dir, topdown=True): \n",
    "        \n",
    "        for file in files:\n",
    "            \n",
    "            # Read in lake data, which are CSV files\n",
    "            if file.endswith('.csv'):\n",
    "                \n",
    "                # Just for the data sets that begin with WE__\n",
    "                if file.startswith('WE'):\n",
    "                \n",
    "                    # first the data\n",
    "                    NOAA_sets[file[:-4]] = pd.read_csv(os.path.join(noaa_dir, file), engine='python', na_values=['NAN', 'NAN '], skiprows=[1, 2], parse_dates=True)\n",
    "\n",
    "                    # store the additional header rows which are details on units and measurement apparatuses\n",
    "                    dataset_measure_details[file[:-4]] =  pd.read_csv(os.path.join(noaa_dir, file), engine='python', na_values=['NAN', 'NAN '], nrows=2, parse_dates=True)\n",
    "\n",
    "                    # Add column for station name in data dataframe\n",
    "                    NOAA_sets[file[:-4]]['station'] = location\n",
    "\n",
    "                    # Add column for station in dataset measure details \n",
    "                    dataset_measure_details[file[:-4]]['station'] = float('NaN')\n",
    "                \n",
    "                # For the rest of the files where there aren't additional header rows\n",
    "                else:\n",
    "                    \n",
    "                    # Read in data\n",
    "                    NOAA_sets[file[:-4]] = pd.read_csv(os.path.join(noaa_dir, file), engine='python', na_values='NAN', parse_dates=True)\n",
    "                    \n",
    "                    # Add column for station name\n",
    "                    NOAA_sets[file[:-4]]['station'] = location\n",
    "                    \n",
    "            # Read in coordinate data \n",
    "            elif 'lonlat' in file:\n",
    "                NOAA_coords[location] = get_coords(pd.read_fwf(\n",
    "                    os.path.join(noaa_dir, file), delimiter=' ', header=None))\n",
    "    "
   ]
  },
  {
   "cell_type": "code",
   "execution_count": null,
   "metadata": {},
   "outputs": [],
   "source": [
    "# Get sum of dataframe lengths in dictionary \n",
    "print(sum([dataset.shape[0] for key, dataset in NOAA_sets.items()]))\n",
    "\n",
    "print('---------------')\n",
    "\n",
    "for key, dataset in NOAA_sets.items():\n",
    "    print(dataset.shape[0])"
   ]
  },
  {
   "cell_type": "code",
   "execution_count": null,
   "metadata": {},
   "outputs": [],
   "source": [
    "print(NOAA_coords.keys())\n",
    "list(NOAA_sets.keys())"
   ]
  },
  {
   "cell_type": "code",
   "execution_count": null,
   "metadata": {},
   "outputs": [],
   "source": [
    "print(NOAA_sets['WE02_2016_annual_summary'].shape)\n",
    "print(dataset_measure_details['WE02_2016_annual_summary'].shape)"
   ]
  },
  {
   "cell_type": "code",
   "execution_count": 6,
   "metadata": {},
   "outputs": [],
   "source": [
    "# lower case column names for all data sets to avoid issues in merging columns due to capitalization differences\n",
    "# add coordinates of moored stations; boat stations have coordinates in data set already\n",
    "\n",
    "for key, dataset in NOAA_sets.items():\n",
    "    dataset.columns = dataset.columns.str.lower()\n",
    "    \n",
    "    # add column for longitude, latitude for the data sets that start with WE\n",
    "    if key.startswith('WE'):\n",
    "        \n",
    "        # add units in column names\n",
    "        dataset.columns = ['{} ({})'.format(ind.lower(), val) if isinstance(val, str) else \n",
    "                           ind.lower() for ind, val in dataset_measure_details[key].iloc[0,].iteritems()]\n",
    "        \n",
    "        ### Note that from here onwards, NOAA_coords has three additional columns compared to dataset_measure_details ###\n",
    "        \n",
    "        # Add coordinates \n",
    "        dataset['longitude (decimal deg)'] = float(NOAA_coords[key.split(sep='_')[0]][0]) # just get the WE__ portion of the name\n",
    "        dataset['latitude (decimal deg)'] = float(NOAA_coords[key.split(sep='_')[0]][1])\n",
    "        \n",
    "        # Instantiate site variable in WE__ data sets as the station variable value to match with small boat data sets\n",
    "        dataset['site'] = dataset['station'] ## this seems to cause problems!! Extra rows are aren't NaN\n",
    "        \n",
    "        # Save measurement units and measurement tools detail in dataset_measure_details\n",
    "        # dataset_measure_details[key] = dataset.iloc[0:1,]\n",
    "        \n",
    "        # Drop the measurement units + tool rows from the WE__ data sets\n",
    "        # dataset.drop([0, 1], inplace = True)"
   ]
  },
  {
   "cell_type": "code",
   "execution_count": 7,
   "metadata": {},
   "outputs": [],
   "source": [
    "# Rename organic_dissolved_oxygen (milligrams per liter) column as organic_dissolved_oxygen_saturation_flags,\n",
    "#   organic_dissolved_oxygen.1 (milligrams per liter) as organic_dissolved_oxygen (milligrams per liter)\n",
    "#   in the 2015 annual summary data sets for WE04, WE08 and WE13\n",
    "\n",
    "diss_oxy_fix_sets = ['WE04_2015_annual_summary', 'WE08_2015_annual_summary', 'WE13_2015_annual_summary']\n",
    "\n",
    "for dat in diss_oxy_fix_sets:\n",
    "    NOAA_sets[dat].rename(columns = { \n",
    "    'organic_dissolved_oxygen (milligrams per liter)': 'organic_dissolved_oxygen_saturation_flags', \n",
    "    'organic_dissolved_oxygen.1 (milligrams per liter)': 'organic_dissolved_oxygen (milligrams per liter)'}, \n",
    "                          inplace = True)"
   ]
  },
  {
   "cell_type": "code",
   "execution_count": null,
   "metadata": {},
   "outputs": [],
   "source": [
    "print(NOAA_sets['WE02_2016_annual_summary'].shape)\n",
    "print(dataset_measure_details['WE02_2016_annual_summary'].shape)"
   ]
  },
  {
   "cell_type": "code",
   "execution_count": 8,
   "metadata": {},
   "outputs": [],
   "source": [
    "# Merge data sets - full outer join or save data frame values in a list to create a list of data frames\n",
    "NOAA_full_dat = pd.concat(NOAA_sets.values(), ignore_index=True, sort=False)"
   ]
  },
  {
   "cell_type": "markdown",
   "metadata": {},
   "source": [
    "## Data Cleaning\n",
    "\n",
    "### Data Type Issues\n",
    "\n",
    "There are some numeric variables that are object types; the reasons are listed below.\n",
    "\n",
    "| Variable | Reason for Error | \n",
    "| --- | --- | \n",
    "| `organic_dissolved_oxygen (milligrams per liter)` | For 2015 annual summaries for WE04, WE08 and WE13, the observations are actually flag values| \n",
    "| `wind speed (knots)` | Contains random dates and string values; exclusive to small boat data sets |\n",
    "| `CTD Tramission (%)` | Row 278798 is a string value 'nd' | \n",
    "| `CTD Dissolved Oxygen (mg/L)`| |\n",
    "| `CTD Tramission (%)` | | \n",
    "| `CTD Dissolved Oxygen (mg/L)` | |\n",
    "| `secchi depth (m)` | Observations contain non-numeric characters ie. '< ' | \n",
    "| | |\n",
    "\n",
    "Still have some unresolved columns after looking at 2019\n",
    "\n",
    "Numeric columns with < __ (grouped values)\n",
    "secchi depth\n"
   ]
  },
  {
   "cell_type": "code",
   "execution_count": null,
   "metadata": {},
   "outputs": [],
   "source": [
    "NOAA_full_dat.dtypes[NOAA_full_dat.dtypes == 'object']"
   ]
  },
  {
   "cell_type": "markdown",
   "metadata": {},
   "source": [
    "#### Organic Dissolved Oxygen"
   ]
  },
  {
   "cell_type": "code",
   "execution_count": null,
   "metadata": {},
   "outputs": [],
   "source": [
    "# Stations with flags in dissolved oxygen (milligrams per liter) instead of actual measurements \n",
    "print(NOAA_full_dat.loc[NOAA_full_dat['organic_dissolved_oxygen (milligrams per liter)'].str.contains(' ').notnull(), 'station'].unique())\n",
    "\n",
    "dis_oxy_mislabel_flag_yr = NOAA_full_dat.loc[NOAA_full_dat['organic_dissolved_oxygen (milligrams per liter)'].str.contains(' ').notnull()] \n",
    "\n",
    "# Which year are the mislabelled organic dissolved oxygen (milligrams per liter) \n",
    "print(dis_oxy_mislabel_flag_yr['timestamp (UTC)'].str.split(pat = '[/ \\\\s]').map(lambda x: x[2]).unique())"
   ]
  },
  {
   "cell_type": "markdown",
   "metadata": {},
   "source": [
    "The data sets that have flag values for `organic_dissolved_oxygen (milligrams per liter)` are the 2015 annual summaries for stations WE04, WE08 and WE13. Looking in depth at the column names for these data sets, the `organic_dissolved_oxygen_saturation_flags` column does not exist. It appears that for these data sets, the oxygen saturation flag column was mislabelled as organic dissolved oxygen. To resolve this issue, I renamed the `organic_dissolved_oxygen.1 (milligrams per liter)` column as `organic_dissolved_oxygen_saturation_flags` for the 2015 annual summary data sets for stations WE04, WE08 and WE13 (done above prior to the data set concatenation). "
   ]
  },
  {
   "cell_type": "code",
   "execution_count": null,
   "metadata": {},
   "outputs": [],
   "source": [
    "non_null_DO1 = NOAA_full_dat[NOAA_full_dat['organic_dissolved_oxygen.1 (milligrams per liter)'].notnull()].index.tolist()\n",
    "print('Number of non-null rows for organic_dissolved_oxygen.1 (milligrams per liter):', len(non_null_DO1))\n",
    "print('Number of null organic_dissolved_oxygen_saturation_flags rows where there are non-null organic_dissolved_oxygen.1 (milligrams per liter) rows:', sum(NOAA_full_dat.iloc[non_null_DO1]['organic_dissolved_oxygen_saturation_flags'].isnull()))"
   ]
  },
  {
   "cell_type": "code",
   "execution_count": null,
   "metadata": {},
   "outputs": [],
   "source": [
    "# Check if organic_dissolved_oxygen (milligrams per liter) is the flag variable for organic_dissolved_oxygen.1 (milligrams per liter)\n",
    "\n",
    "# Are the non-null rows for organic_dissolved_oxygen.1 (milligrams per liter) the same rows as where the mislabelled organic dissolved oxygen (milligrams per liter) are?\n",
    "print('Check if non-null organic_dissolved_oxygen.1 rows == mislabelled organic dissolved oxygen (milligrams per liter) rows:', NOAA_full_dat.loc[NOAA_full_dat['organic_dissolved_oxygen.1 (milligrams per liter)'].notnull()].index.tolist() == dis_oxy_mislabel_flag_yr['organic_dissolved_oxygen (milligrams per liter)'].index.tolist())"
   ]
  },
  {
   "cell_type": "code",
   "execution_count": null,
   "metadata": {},
   "outputs": [],
   "source": [
    "dis_oxy_mislabel_flag_yr['organic_dissolved_oxygen (milligrams per liter)'].index.tolist()"
   ]
  },
  {
   "cell_type": "code",
   "execution_count": null,
   "metadata": {},
   "outputs": [],
   "source": [
    "nonnull_ctd_oxy = NOAA_full_dat.loc[NOAA_full_dat['ctd dissolved oxygen (mg/l)'].notnull(), 'ctd dissolved oxygen (mg/l)'] \n",
    "np.where(nonnull_ctd_oxy.str.replace(pat = '.', repl = '', regex = False).str.isnumeric() == False)\n",
    "nonnull_ctd_oxy.index.tolist()[820]\n",
    "nonnull_ctd_oxy[278551]"
   ]
  },
  {
   "cell_type": "markdown",
   "metadata": {},
   "source": [
    "There is only one non-null row in `ctd dissolved oxygen (mg/l)` that is non-numeric (a space character), so I will cast this variable to numeric. "
   ]
  },
  {
   "cell_type": "code",
   "execution_count": 11,
   "metadata": {},
   "outputs": [],
   "source": [
    "NOAA_full_dat['ctd dissolved oxygen (mg/l)'] = pd.to_numeric(NOAA_full_dat['ctd dissolved oxygen (mg/l)'], errors = 'coerce')"
   ]
  },
  {
   "cell_type": "markdown",
   "metadata": {},
   "source": [
    "#### CTD Transmission\n",
    "\n",
    "Note variable has typo in name - `tramission` instead of `transmission`. For `ctd tramission (%)`, there is only one row that is non-numeric with value of `'nd'`. As a result, it is safe to cast `ctd tramission (%)` to numeric using `pd.numeric()` with `errors = 'coerce'`."
   ]
  },
  {
   "cell_type": "code",
   "execution_count": null,
   "metadata": {},
   "outputs": [],
   "source": [
    "# print(NOAA_full_dat.loc[NOAA_full_dat['CTD Tramission (%)'].str.contains('<').notnull(), 'station'])\n",
    "\n",
    "print('ctd tramission (%) observations are only in:', NOAA_full_dat.loc[NOAA_full_dat['ctd tramission (%)'].notnull(), 'station'].unique())\n",
    "\n",
    "# Only one observation in ctd tramission that is all alphabetical characters\n",
    "print('Number of entirely alphabetical entries in ctd tramission (%):', NOAA_full_dat.loc[NOAA_full_dat['ctd tramission (%)'].notnull(), 'ctd tramission (%)'].str.isalpha().sum())\n",
    "\n",
    "# Check if other rows besides row 278798 are string\n",
    "NOAA_full_dat['ctd tramission (%)'][278799:].astype(float) "
   ]
  },
  {
   "cell_type": "code",
   "execution_count": 12,
   "metadata": {},
   "outputs": [],
   "source": [
    "# Cast ctd tramission (%) to numeric\n",
    "NOAA_full_dat['ctd tramission (%)'] = pd.to_numeric(NOAA_full_dat['ctd tramission (%)'], errors = 'coerce')"
   ]
  },
  {
   "cell_type": "markdown",
   "metadata": {},
   "source": [
    "#### Wind Speed\n",
    "\n",
    "There are five rows that have dates and one that is a string. We can cast `wind speed (knots)` as a float using `pd.to_numeric()` with `errors = 'coerce'` since the non-numeric entries will be unused data. "
   ]
  },
  {
   "cell_type": "code",
   "execution_count": null,
   "metadata": {},
   "outputs": [],
   "source": [
    "print('wind speed (knots) observations are only in:', NOAA_full_dat.loc[NOAA_full_dat['wind speed (knots)'].notnull(), 'station'].unique())"
   ]
  },
  {
   "cell_type": "code",
   "execution_count": null,
   "metadata": {
    "scrolled": false
   },
   "outputs": [],
   "source": [
    "# NOAA_full_dat.loc[NOAA_full_dat['wind speed (knots)'].str.isnumeric() == False, 'wind speed (knots)']\n",
    "\n",
    "NOAA_full_dat[NOAA_full_dat['wind speed (knots)'].str.contains('-') == True]"
   ]
  },
  {
   "cell_type": "code",
   "execution_count": 13,
   "metadata": {},
   "outputs": [],
   "source": [
    "# Cast wind speed (knots) to float\n",
    "NOAA_full_dat['wind speed (knots)'] = pd.to_numeric(NOAA_full_dat['wind speed (knots)'], errors = 'coerce')"
   ]
  },
  {
   "cell_type": "code",
   "execution_count": null,
   "metadata": {},
   "outputs": [],
   "source": [
    "len(NOAA_full_dat.dtypes[NOAA_full_dat.dtypes == 'object'])"
   ]
  },
  {
   "cell_type": "markdown",
   "metadata": {},
   "source": [
    "There are several columns, such as `water_temperature (degrees Celsius)` and `chlorophylla (RFU)`, that are read in as object types but are actually numeric. I will run through the dataframe to cast numeric columns read in as object to float using `pd.to_numeric()` with `errors = coerce`. The reasoning is that non-numeric values in a numeric column don't belong and so we will mark those values as `NaN`. The only object variables in the concatenated data set are the flag variables, `sample depth (category)`, `sky`, `station` and `site` so these variables will be ignored in the cast to float process.\n",
    "\n",
    "**Update: don't cast variables into numeric using coerce... some variables in the small boat data sets are bucketed! Cast as you go during EDA**"
   ]
  },
  {
   "cell_type": "markdown",
   "metadata": {},
   "source": [
    "Note that the `site` variable exists in all data sets now, but both `site` and `station` are not original variables in the raw \"WE__\" data sets whereas `site` is a variable in the small boats data sets. The `station` variable is helpful in noting the location from which data are from.\n",
    "\n",
    "There are flag variables that indicate the quality of observations in the \"WE__\" data sets. From the metadata:\n",
    "> Values for quality control flags can be found in the columns with analyte name and ending in \"_flags\".  Four required flags are listed for including, gap test, syntax test, location test, and gross range test.  Flag values are 1 = pass; 3 = suspect; 4 = failed\n",
    "\n",
    "Later in the data processing section, we may want to remove observations with any flag scores of 4 for any of the tests."
   ]
  },
  {
   "cell_type": "code",
   "execution_count": null,
   "metadata": {},
   "outputs": [],
   "source": [
    "[var for var in list(NOAA_full_dat.columns) if 'flag' in var]"
   ]
  },
  {
   "cell_type": "markdown",
   "metadata": {},
   "source": [
    "Variables that shouldn't be objects are:\n",
    "- ~~secchi depth (m)~~ *done!*\n",
    "- ~~ctd beam attenuation (m-1)~~ *ignored*\n",
    "- ~~ctd tramission (%)~~ \n",
    "- ~~ctd dissolved oxygen (mg/l)~~\n",
    "- particulate microcystin (µg/l)\n",
    "- dissolved microcystin (µg/l)\n",
    "- extracted phycocyanin (µg/l)\n",
    "- soluble reactive phosphorus (µg p/l)\n",
    "- ammonia (µg n/l)\n",
    "- nitrate + nitrite (mg n/l)\n",
    "- urea (µg n/l)"
   ]
  },
  {
   "cell_type": "markdown",
   "metadata": {},
   "source": [
    "#### Microcystin\n",
    "\n",
    "There are three variables related to microcystin:\n",
    "- `particulate microcystin (µg/l)`\n",
    "- `dissolved microcystin (µg/l)`\n",
    "- `extracted phycocyanin (µg/l)`"
   ]
  },
  {
   "cell_type": "code",
   "execution_count": null,
   "metadata": {},
   "outputs": [],
   "source": [
    "print(NOAA_full_dat.loc[NOAA_full_dat['particulate microcystin (µg/l)'].notnull(), 'station'].unique())\n",
    "print('----------')\n",
    "print(NOAA_full_dat.loc[NOAA_full_dat['dissolved microcystin (µg/l)'].notnull(), 'station'].unique())\n",
    "print('----------')\n",
    "print(NOAA_full_dat.loc[NOAA_full_dat['extracted phycocyanin (µg/l)'].notnull(), 'station'].unique())"
   ]
  },
  {
   "cell_type": "code",
   "execution_count": null,
   "metadata": {},
   "outputs": [],
   "source": [
    "print('Number of non-numeric non-null rows for particulate microcystin (µg/l):', (NOAA_full_dat.loc[NOAA_full_dat['particulate microcystin (µg/l)'].notnull(), 'particulate microcystin (µg/l)'].str.replace(pat = '.', repl = '', regex = False).str.isnumeric() == False).sum())\n",
    "print('Number of non-null rows for particulate microcystin (µg/l):', NOAA_full_dat['particulate microcystin (µg/l)'].notnull().sum())"
   ]
  },
  {
   "cell_type": "code",
   "execution_count": null,
   "metadata": {},
   "outputs": [],
   "source": [
    "NOAA_full_dat.loc[NOAA_full_dat['particulate microcystin (µg/l)'].str.contains('<') == True, 'particulate microcystin (µg/l)']"
   ]
  },
  {
   "cell_type": "code",
   "execution_count": null,
   "metadata": {},
   "outputs": [],
   "source": [
    "part_microcystin_symbol_removed = NOAA_full_dat.loc[NOAA_full_dat['particulate microcystin (µg/l)'].str.contains('<') == True, 'particulate microcystin (µg/l)'].apply(lambda x: x[1:])\n",
    "(part_microcystin_symbol_removed.str.replace(pat = '.', repl = '', regex = False).str.isnumeric() == False).sum()"
   ]
  },
  {
   "cell_type": "markdown",
   "metadata": {},
   "source": [
    "There are 529 rows out of 1437 non-null rows with a `<0.1` value, which suggests that the apparatus that measured microcystin particulate has a lower sensitivity threshold of 0.1 µg/l. I will create indicator variable for if the value of `particulate microcystin (µg/l)` is `<0.1`."
   ]
  },
  {
   "cell_type": "code",
   "execution_count": null,
   "metadata": {},
   "outputs": [],
   "source": [
    "print('Number of non-numeric non-null rows for dissolved microcystin (µg/l):', (NOAA_full_dat.loc[NOAA_full_dat['dissolved microcystin (µg/l)'].notnull(), 'dissolved microcystin (µg/l)'].str.replace(pat = '.', repl = '', regex = False).str.isnumeric() == False).sum())\n",
    "print('Number of non-null rows for dissolved microcystin (µg/l):', NOAA_full_dat['dissolved microcystin (µg/l)'].notnull().sum())"
   ]
  },
  {
   "cell_type": "code",
   "execution_count": null,
   "metadata": {},
   "outputs": [],
   "source": [
    "print('Number of non-numeric non-null rows for extracted phycocyanin (µg/l):', (NOAA_full_dat.loc[NOAA_full_dat['extracted phycocyanin (µg/l)'].notnull(), 'extracted phycocyanin (µg/l)'].str.replace(pat = '.', repl = '', regex = False).str.isnumeric() == False).sum())\n",
    "print('Number of non-null rows for extracted phycocyanin (µg/l):', NOAA_full_dat['extracted phycocyanin (µg/l)'].notnull().sum())"
   ]
  },
  {
   "cell_type": "code",
   "execution_count": null,
   "metadata": {},
   "outputs": [],
   "source": [
    "extract_phyco_chars = NOAA_full_dat['extracted phycocyanin (µg/l)'][NOAA_full_dat['extracted phycocyanin (µg/l)'].notnull()][NOAA_full_dat.loc[NOAA_full_dat['extracted phycocyanin (µg/l)'].notnull(), 'extracted phycocyanin (µg/l)'].str.replace(pat = '.', repl = '', regex = False).str.isnumeric() == False]"
   ]
  },
  {
   "cell_type": "code",
   "execution_count": null,
   "metadata": {},
   "outputs": [],
   "source": [
    "NOAA_full_dat['extracted phycocyanin (µg/l)'][NOAA_full_dat['extracted phycocyanin (µg/l)'].notnull()][NOAA_full_dat.loc[NOAA_full_dat['extracted phycocyanin (µg/l)'].notnull(), 'extracted phycocyanin (µg/l)'].str.replace(pat = '.', repl = '', regex = False).str.isnumeric() == False]"
   ]
  },
  {
   "cell_type": "markdown",
   "metadata": {},
   "source": [
    "There are 34 out of 1444 rows that contain a non-numeric character (namely \"<\"). There does not seem to be a minimum value to `extracted phycocyanin (µg/l)` as the minimum value in this variable is 0.01 µg/l whereas the rows containing the character \"<\" have values 0.03 or greater."
   ]
  },
  {
   "cell_type": "code",
   "execution_count": 14,
   "metadata": {},
   "outputs": [
    {
     "data": {
      "text/plain": [
       "0.01"
      ]
     },
     "execution_count": 14,
     "metadata": {},
     "output_type": "execute_result"
    }
   ],
   "source": [
    "pd.to_numeric(NOAA_full_dat['extracted phycocyanin (µg/l)'][NOAA_full_dat['extracted phycocyanin (µg/l)'].notnull()], errors = 'coerce').min()"
   ]
  },
  {
   "cell_type": "markdown",
   "metadata": {},
   "source": [
    "### Merging Similar Columns in NOAA Data Set\n",
    "\n",
    "Since the NOAA data required combining multiple data sets with inconsistent column names, we need to identify and combine columns that are referring to the same attribute. The Environment Canada data set does not require the same treatment as it was sourced from one data file."
   ]
  },
  {
   "cell_type": "markdown",
   "metadata": {},
   "source": [
    "Info about variables:\n",
    "- difference between FNU and NTU https://or.water.usgs.gov/grapher/fnu.html#:~:text=For%20example%2C%20a%20Formazin%20Nephelometric,measured%20with%20a%20white%20light "
   ]
  },
  {
   "cell_type": "markdown",
   "metadata": {},
   "source": [
    "### Variable groupings\n",
    "\n",
    "1. Time\n",
    "   `date`, `timestamp`\n",
    "\n",
    "2. Turbidity\n",
    "\n",
    "3. pH"
   ]
  },
  {
   "cell_type": "markdown",
   "metadata": {},
   "source": [
    "The function `token_set_ratio` from the `FuzzyWuzzy` library tokenizes the strings, sets strings to lower case and removes punctuation then calculates Levenshtein ratio, which is roughly the proportion of characters in two compared strings that do not have to be changed or manipulated to obtain the same string (`(sum of strings' lengths - Levenshtein distance) / sum of strings' lengths`). Output of `token_set_ratio` gives a value from 0 to 100; a higher value implies that the two strings are similar.\n",
    "\n",
    "Flag variables are disregarded."
   ]
  },
  {
   "cell_type": "code",
   "execution_count": 15,
   "metadata": {},
   "outputs": [
    {
     "name": "stdout",
     "output_type": "stream",
     "text": [
      "Mean of Levenshtein distance among variable names using token_set_ratio: 29.014\n"
     ]
    }
   ],
   "source": [
    "NOAA_orig_vars = [var for var in list(NOAA_full_dat.columns) if 'flag' not in var]\n",
    "\n",
    "lev_similarity = np.array([[fuzz.token_set_ratio(w1,w2) for w1 in list(NOAA_full_dat.columns)] for w2 in list(NOAA_full_dat.columns)])\n",
    "\n",
    "row_ind, col_ind = np.triu_indices(lev_similarity.shape[0],1)\n",
    "print('Mean of Levenshtein distance among variable names using token_set_ratio:', round(np.mean(lev_similarity[row_ind, col_ind]), 3))\n",
    "np.triu(lev_similarity, k=1)\n",
    "\n",
    "lev_thres = 50\n",
    "var_pairs = np.argwhere(np.triu(lev_similarity, k=1) > lev_thres)"
   ]
  },
  {
   "cell_type": "code",
   "execution_count": 16,
   "metadata": {},
   "outputs": [],
   "source": [
    "# Dictionary to store grouped NOAA variables based on Levenshtein distance\n",
    "grouped_NOAA_vars = {}\n",
    "\n",
    "# Get number of original NOAA variables minus flag variables\n",
    "num_NOAA_orig_vars = len(NOAA_orig_vars)\n",
    "\n",
    "# Make copy of NOAA variable names with flags filtered out\n",
    "NOAA_orig_vars_copy = NOAA_orig_vars\n",
    "\n",
    "def group_str(orig_strs, copy_strs, grp_dict, thres):\n",
    "\n",
    "    for i in range(0, len(orig_strs)-1):\n",
    "        if orig_strs[i] not in copy_strs:\n",
    "            continue\n",
    "            \n",
    "        # try to map token_set_ratio with orig_strs[i] on elements in copy_strs?\n",
    "        else:\n",
    "            # Get Levenshtein ratios of orig_strs[i] and the rest of the remaining strings\n",
    "            lev_dists = map(lambda name: fuzz.token_set_ratio(orig_strs[i], name), copy_strs)\n",
    "            \n",
    "            # Indices of words that have ratio greater than thres\n",
    "            sim_words_ind = [ind for ind, val in enumerate(lev_dists) if val > thres]\n",
    "            \n",
    "            # Save similar values as values, orig_strs[i] as key in dictionary\n",
    "            grp_dict[orig_strs[i]] = [copy_strs[i] for i in sim_words_ind]\n",
    "            \n",
    "            # Remove strings from copy of list of strings \n",
    "            copy_strs = np.delete(copy_strs, sim_words_ind).tolist()\n",
    "            \n",
    "    return(grp_dict)"
   ]
  },
  {
   "cell_type": "code",
   "execution_count": 17,
   "metadata": {},
   "outputs": [],
   "source": [
    "grp_NOAA_vars = group_str(NOAA_orig_vars, NOAA_orig_vars_copy, grouped_NOAA_vars, 60)"
   ]
  },
  {
   "cell_type": "code",
   "execution_count": null,
   "metadata": {
    "scrolled": false
   },
   "outputs": [],
   "source": [
    "# Prints the nicely formatted dictionary\n",
    "pprint.pprint(grp_NOAA_vars)"
   ]
  },
  {
   "cell_type": "markdown",
   "metadata": {},
   "source": [
    "Most groupings don't seem that effective... In hindsight, this would've been better if I had not tacked in the units to the variable names/filtered it out for this grouping purpose. It does seem important to not combine columns if they are the same measurement but are in different units! General groups are:\n",
    "\n",
    "| Representative Variable Name | Original Variable Names | \n",
    "| --- | --- | \n",
    "| water_temp_celsius_combined | 'water_temperature (degrees Celsius)','water_temperature_c6 (degrees Celsius)','water_temp_c6 (degrees Celsius)','ctd temperature (°c)' | \n",
    "\n",
    "### Water Temperature"
   ]
  },
  {
   "cell_type": "code",
   "execution_count": null,
   "metadata": {
    "scrolled": true
   },
   "outputs": [],
   "source": [
    "NOAA_full_dat[['water_temperature (degrees Celsius)',\n",
    "               'water_temperature_c6 (degrees Celsius)',\n",
    "               'water_temp_c6 (degrees Celsius)',\n",
    "               'ctd temperature (°c)',\n",
    "               'site']]"
   ]
  },
  {
   "cell_type": "code",
   "execution_count": null,
   "metadata": {},
   "outputs": [],
   "source": [
    "[var for var in NOAA_full_dat.columns if 'temp' in var.lower()]"
   ]
  },
  {
   "cell_type": "code",
   "execution_count": null,
   "metadata": {},
   "outputs": [],
   "source": [
    "# Why is there a difference between the number of not null rows and the count of rows for 'water_temperature (degrees Celsius)'\n",
    "sum(NOAA_full_dat['water_temperature (degrees Celsius)'].notnull())"
   ]
  },
  {
   "cell_type": "code",
   "execution_count": null,
   "metadata": {},
   "outputs": [],
   "source": [
    "NOAA_full_dat.loc[NOAA_full_dat['water_temperature_c6 (degrees Celsius)'] == 41.52,\n",
    "             ['water_temperature (degrees Celsius)',\n",
    "               'water_temperature_c6 (degrees Celsius)',\n",
    "               'water_temp_c6 (degrees Celsius)',\n",
    "               'ctd temperature (°c)',\n",
    "               'site']]"
   ]
  },
  {
   "cell_type": "code",
   "execution_count": 19,
   "metadata": {},
   "outputs": [
    {
     "name": "stdout",
     "output_type": "stream",
     "text": [
      "Water Temperature variables:\n",
      "count    9386.000000\n",
      "mean        0.336513\n",
      "std         0.917619\n",
      "min       -17.790000\n",
      "25%        -0.370000\n",
      "50%        -0.200000\n",
      "75%         1.400000\n",
      "max         4.290000\n",
      "dtype: float64\n",
      "\n",
      "Water Temp variables:\n",
      "count    17076.000000\n",
      "mean         0.158988\n",
      "std          1.994759\n",
      "min        -25.690000\n",
      "25%         -0.210000\n",
      "50%          0.022750\n",
      "75%          1.170000\n",
      "max         24.800000\n",
      "dtype: float64\n"
     ]
    }
   ],
   "source": [
    "water_temp_diff = NOAA_full_dat['water_temperature (degrees Celsius)'] - NOAA_full_dat['water_temp_c6 (degrees Celsius)']\n",
    "print('Water Temperature variables:\\n{}\\n'.format(water_temp_diff.describe()))\n",
    "water_temperature_diff = NOAA_full_dat['water_temperature (degrees Celsius)'] - NOAA_full_dat['water_temperature_c6 (degrees Celsius)']\n",
    "print('Water Temp variables:\\n{}'.format(water_temperature_diff.describe()))"
   ]
  },
  {
   "cell_type": "code",
   "execution_count": 20,
   "metadata": {},
   "outputs": [
    {
     "data": {
      "image/png": "[encoded data removed]",
      "text/plain": [
       "<Figure size 1440x720 with 1 Axes>"
      ]
     },
     "metadata": {
      "needs_background": "light"
     },
     "output_type": "display_data"
    }
   ],
   "source": [
    "fig, ax = plt.subplots(figsize=(20, 10))\n",
    "\n",
    "water_temperature_diff.hist(bins=500, histtype='step', fill= True)\n",
    "\n",
    "plt.title('Histogram of Difference in Water Temperature Variables')\n",
    "plt.xlabel('Difference')\n",
    "plt.ylabel('Observation Count')\n",
    "\n",
    "plt.show()"
   ]
  },
  {
   "cell_type": "code",
   "execution_count": null,
   "metadata": {},
   "outputs": [],
   "source": [
    "NOAA_full_dat[['water_temperature (degrees Celsius)',\n",
    "               'water_temperature_c6 (degrees Celsius)',\n",
    "               'water_temp_c6 (degrees Celsius)',\n",
    "               'ctd temperature (°c)',\n",
    "               'sample temperature (°c)']].describe()"
   ]
  },
  {
   "cell_type": "markdown",
   "metadata": {},
   "source": [
    "The variables `water_temp_c6 (degrees Celsius)`, `ctd temperature (°c)` and `sample temperature (°c)` are likely taken from warmer months given its range, median value and smaller standard deviation compared to the other two water temperature variables.\n",
    "\n",
    "We need to check if the different water temperature columns are mutually exclusive ie. if there is only one populated water temperature column per row. "
   ]
  },
  {
   "cell_type": "code",
   "execution_count": null,
   "metadata": {},
   "outputs": [],
   "source": [
    "print(NOAA_full_dat.loc[NOAA_full_dat['water_temperature (degrees Celsius)'].notnull(), 'station'].unique())\n",
    "print('----------')\n",
    "print(NOAA_full_dat.loc[NOAA_full_dat['water_temperature_c6 (degrees Celsius)'].notnull(), 'station'].unique())\n",
    "print('----------')\n",
    "print(NOAA_full_dat.loc[NOAA_full_dat['water_temp_c6 (degrees Celsius)'].notnull(), 'station'].unique())\n",
    "print('----------')\n",
    "print(NOAA_full_dat.loc[NOAA_full_dat['ctd temperature (°c)'].notnull(), 'station'].unique())\n",
    "print('----------')\n",
    "print(NOAA_full_dat.loc[NOAA_full_dat['sample temperature (°c)'].notnull(), 'station'].unique())"
   ]
  },
  {
   "cell_type": "code",
   "execution_count": null,
   "metadata": {},
   "outputs": [],
   "source": [
    "NOAA_full_dat[(NOAA_full_dat['ctd temperature (°c)'].notnull()) & (NOAA_full_dat['sample temperature (°c)'].notnull())]"
   ]
  },
  {
   "cell_type": "markdown",
   "metadata": {},
   "source": [
    "The variables `water_temperature_c6 (degrees Celsius)` and `water_temp_c6 (degrees Celsius)` are mutually exclusive. However, `water_temperature (degrees Celsius)` overlaps with these two variables each. \n",
    "\n",
    "The variables `sample temperature (°c)` and `ctd temperature (°c)` are specific to the small boat datasets. The former is for small boat observations from 2012 while the latter is for small boat observations from 2013 to 2019."
   ]
  },
  {
   "cell_type": "code",
   "execution_count": null,
   "metadata": {},
   "outputs": [],
   "source": [
    "# combine temperature columns\n",
    "# NOAA_full_dat['water_temp_celsius_combined'] = NOAA_full_dat['water_temperature (degrees Celsius)'].combine_first(NOAA_full_dat['water_temperature_c6 (degrees Celsius)'])\n"
   ]
  },
  {
   "cell_type": "markdown",
   "metadata": {},
   "source": [
    "There are 54 observations for the variable `sample temperature (°c)`. These rows are from the Small_boat_2012_2018 data set."
   ]
  },
  {
   "cell_type": "code",
   "execution_count": null,
   "metadata": {
    "scrolled": true
   },
   "outputs": [],
   "source": [
    "NOAA_full_dat.loc[(NOAA_full_dat['water_temperature (degrees Celsius)'].notnull())&(NOAA_full_dat['water_temperature_c6 (degrees Celsius)'].notnull())]"
   ]
  },
  {
   "cell_type": "markdown",
   "metadata": {},
   "source": [
    "### Depth\n",
    "\n",
    "There are five variables related to depth:\n",
    "- `depth_c6 (meter)`\n",
    "- `depth_c6 (meters)`\n",
    "- `sample depth (m)`\n",
    "- `depth (meters)`\n",
    "- `sample depth (category)`"
   ]
  },
  {
   "cell_type": "code",
   "execution_count": null,
   "metadata": {},
   "outputs": [],
   "source": [
    "NOAA_full_dat[['depth_c6 (meter)', 'depth_c6 (meters)', 'sample depth (m)', 'depth (meters)', 'sample depth (category)']].describe()"
   ]
  },
  {
   "cell_type": "code",
   "execution_count": null,
   "metadata": {},
   "outputs": [],
   "source": [
    "# check for which stations each variable is populated for\n",
    "print('depth_c6 (meter):', NOAA_full_dat.loc[NOAA_full_dat['depth_c6 (meter)'].notnull() == True, 'station'].unique())\n",
    "print('----------')\n",
    "print('depth_c6 (meters):', NOAA_full_dat.loc[NOAA_full_dat['depth_c6 (meter)'].notnull() == True, 'station'].unique())\n",
    "print('----------')\n",
    "print('sample depth (m):', NOAA_full_dat.loc[NOAA_full_dat['depth_c6 (meter)'].notnull() == True, 'station'].unique())\n",
    "print('----------')\n",
    "print('depth (meters):', NOAA_full_dat.loc[NOAA_full_dat['depth (meters)'].notnull() == True, 'station'].unique())"
   ]
  },
  {
   "cell_type": "markdown",
   "metadata": {},
   "source": [
    "### Secchi Depth\n",
    "\n",
    "There are some non-numeric values in the `secchi depth (m)` column. We will double check what these rows contain. "
   ]
  },
  {
   "cell_type": "code",
   "execution_count": null,
   "metadata": {},
   "outputs": [],
   "source": [
    "nonnull_secchi = NOAA_full_dat['secchi depth (m)'][NOAA_full_dat['secchi depth (m)'].notnull()]\n",
    "print('Number of non-null secchi observations:', nonnull_secchi.shape[0])\n",
    "print('Number of non-null secchi observations with non-numeric characters:', nonnull_secchi.str.replace(pat = '.', repl = '', regex = False).str.isdigit().sum())"
   ]
  },
  {
   "cell_type": "code",
   "execution_count": null,
   "metadata": {},
   "outputs": [],
   "source": [
    "NOAA_full_dat['secchi depth (m)'].loc[NOAA_full_dat['secchi depth (m)'].str.replace(pat = '.', repl = '', regex = False).str.isdigit() == False]"
   ]
  },
  {
   "cell_type": "markdown",
   "metadata": {},
   "source": [
    "There are only two rows out of 978 non-null rows in `secchi depth (m)` that are strings (non-numeric). Hence, we will coerce the non-numeric rows into `NaN`. "
   ]
  },
  {
   "cell_type": "code",
   "execution_count": 21,
   "metadata": {},
   "outputs": [],
   "source": [
    "# Cast secchi depth (m) to numeric\n",
    "NOAA_full_dat['secchi depth (m)'] = pd.to_numeric(NOAA_full_dat['secchi depth (m)'], errors = 'coerce')"
   ]
  },
  {
   "cell_type": "markdown",
   "metadata": {},
   "source": [
    "### Date \n",
    "\n",
    "There are three variables related to date: `date`, `timestamp (UTC)` and `local time (eastern time zone)`. The first variable is of %-m/%d/%Y format, the second is of %-m/%d/%Y %H %M format, and the last variable is of %H %M format (24-hour notation time). The variables `date` and `local time (eastern time zone)` are in tandem, found in the small boat data sets. \n",
    "\n",
    "*Not sure if granularity of time is necessary, but keep it for now. Note that small boat data sets are in EST whereas timestamp (UTC) is in UTC time zone!* "
   ]
  },
  {
   "cell_type": "code",
   "execution_count": null,
   "metadata": {},
   "outputs": [],
   "source": [
    "# Convert dates and times from string to date object\n",
    "NOAA_full_dat['date'] = pd.to_datetime(NOAA_full_dat['date'])\n",
    "\n",
    "## May need to break down further to year, month, day, time"
   ]
  },
  {
   "cell_type": "code",
   "execution_count": null,
   "metadata": {},
   "outputs": [],
   "source": [
    "print(NOAA_full_dat.loc[NOAA_full_dat['timestamp (UTC)'].notnull(), 'station'].unique())\n",
    "print('----------')\n",
    "print(NOAA_full_dat.loc[NOAA_full_dat['date'].notnull(), 'station'].unique())"
   ]
  },
  {
   "cell_type": "code",
   "execution_count": null,
   "metadata": {},
   "outputs": [],
   "source": [
    "NOAA_full_dat['timestamp (UTC)'][NOAA_full_dat['timestamp (UTC)'].notnull()].head()"
   ]
  },
  {
   "cell_type": "code",
   "execution_count": null,
   "metadata": {},
   "outputs": [],
   "source": [
    "NOAA_full_dat['date'][NOAA_full_dat['date'].notnull()].head()"
   ]
  },
  {
   "cell_type": "code",
   "execution_count": null,
   "metadata": {},
   "outputs": [],
   "source": [
    "# tstmo, tstday, tstyr, tsttime = re.split('[/ \\\\s]', NOAA_full_dat['timestamp (UTC)'][0])\n",
    "\n",
    "# Check range of months in timestamp (UTC) variables\n",
    "timestamp_notnull = NOAA_full_dat.loc[NOAA_full_dat['timestamp (UTC)'].notnull(), 'timestamp (UTC)']\n",
    "timestamp_notnull.str.split(pat = '[/ \\\\s]').map(lambda x: x[0]).unique()"
   ]
  },
  {
   "cell_type": "markdown",
   "metadata": {},
   "source": [
    "Unavailable dates in the `timestamp (UTC)` variable are coded as `NA-99-99 99:99:99`. As well, there are 5 rows with the date `2000-00-00 00:00:00` and 3 rows with `#VALUE!` randomly scattered throughout the `timestamp (UTC)` series. These must be cleaned up. \n",
    "\n",
    "Looking at these rows, the majority of the other variables are also NaN values, so these observations are virtually useless. I set the value of `timestamp (UTC)` to NaN for the rows with the values `NA-99-99 99:99:99`, `2000-00-00 00:00:00`and `#VALUE!` to standardize NA entries."
   ]
  },
  {
   "cell_type": "code",
   "execution_count": null,
   "metadata": {},
   "outputs": [],
   "source": [
    "NOAA_full_dat.iloc[timestamp_notnull[timestamp_notnull.str.startswith(\n",
    "    ('NA-99-99 99:99:99', '2000-00-00 00:00:00', '#VALUE!'))].index, ]"
   ]
  },
  {
   "cell_type": "code",
   "execution_count": null,
   "metadata": {
    "scrolled": false
   },
   "outputs": [],
   "source": [
    "# Set rows for which timestamp (UTC) = NA-99-99 99:99:99 to NaN\n",
    "NOAA_full_dat.loc[NOAA_full_dat['timestamp (UTC)'].isin([\n",
    "    'NA-99-99 99:99:99', '2000-00-00 00:00:00', '#VALUE!']), 'timestamp (UTC)'] = float('NaN')"
   ]
  },
  {
   "cell_type": "code",
   "execution_count": null,
   "metadata": {},
   "outputs": [],
   "source": [
    "# Convert timestamp (UTC) variable to pandas time \n",
    "NOAA_full_dat['timestamp (UTC)'] = pd.to_datetime(NOAA_full_dat['timestamp (UTC)'])"
   ]
  },
  {
   "cell_type": "code",
   "execution_count": null,
   "metadata": {},
   "outputs": [],
   "source": [
    "# Would it be helpful to have speicific columns for year, month, day? Would be easier for processing "
   ]
  },
  {
   "cell_type": "markdown",
   "metadata": {},
   "source": [
    "### Phosphorus\n",
    "\n",
    "Phosphorus is an important variable to look at as it is a limiting factor to algae bloom growth (***cite here!!***).\n",
    "\n",
    "There are four variables related to phosphorus:\n",
    "- `phosphate (micrograms per liter)`\n",
    "- `total phosphorus (µg p/l)`\n",
    "- `total dissolved phosphorus (µg p/l)`\n",
    "- `soluble reactive phosphorus (µg p/l)`"
   ]
  },
  {
   "cell_type": "code",
   "execution_count": null,
   "metadata": {},
   "outputs": [],
   "source": [
    "print(NOAA_full_dat.loc[NOAA_full_dat['phosphate (micrograms per liter)'].notnull(), 'station'].unique())\n",
    "print('----------')\n",
    "print(NOAA_full_dat.loc[NOAA_full_dat['total phosphorus (µg p/l)'].notnull(), 'station'].unique())\n",
    "print('----------')\n",
    "print(NOAA_full_dat.loc[NOAA_full_dat['total dissolved phosphorus (µg p/l)'].notnull(), 'station'].unique())\n",
    "print('----------')\n",
    "print(NOAA_full_dat.loc[NOAA_full_dat['soluble reactive phosphorus (µg p/l)'].notnull(), 'station'].unique())"
   ]
  },
  {
   "cell_type": "markdown",
   "metadata": {},
   "source": [
    "The phosphate variable, `phosphate (micrograms per liter)`, is found in the 'WE__' data sets whereas the phosphorus variables are found in the small boat data sets. "
   ]
  },
  {
   "cell_type": "code",
   "execution_count": null,
   "metadata": {},
   "outputs": [],
   "source": [
    "NOAA_full_dat['phosphate (micrograms per liter)'].notnull()"
   ]
  },
  {
   "cell_type": "code",
   "execution_count": null,
   "metadata": {},
   "outputs": [],
   "source": [
    "# get details on phosphorus variables\n",
    "NOAA_full_dat[['phosphate (micrograms per liter)',\n",
    "              'total phosphorus (µg p/l)',\n",
    "              'total dissolved phosphorus (µg p/l)',\n",
    "              'soluble reactive phosphorus (µg p/l)']].describe()"
   ]
  },
  {
   "cell_type": "code",
   "execution_count": null,
   "metadata": {},
   "outputs": [],
   "source": [
    "print('There are', sum(NOAA_full_dat['phosphate (micrograms per liter)'] < 0), 'negative phosphate observations out of', sum(NOAA_full_dat['phosphate (micrograms per liter)'].notnull()), 'observations in total.')\n",
    "NOAA_full_dat.loc[NOAA_full_dat['phosphate (micrograms per liter)'] < 0, 'phosphate (micrograms per liter)'].describe()"
   ]
  },
  {
   "cell_type": "markdown",
   "metadata": {},
   "source": [
    "Not sure how to interpret negative phosphate observations!? There are also a lot of negative observations... more than 25% of the total phosphate observations. This [thread](https://www.researchgate.net/post/How_can_I_explain_negative_value_of_water_quality_parameters_nutrients_like_Nitrite_Nitrate_Phosphate) on ResearchGate suggests that this is a measurement error. For EDA, I will ignore negative values."
   ]
  },
  {
   "cell_type": "code",
   "execution_count": null,
   "metadata": {},
   "outputs": [],
   "source": [
    "print('total phosphorus (µg p/l):', sum(NOAA_full_dat['total phosphorus (µg p/l)'].notnull()))\n",
    "print('----------')\n",
    "print('total dissolved phosphorus (µg p/l):', sum(NOAA_full_dat['total dissolved phosphorus (µg p/l)'].notnull()))\n",
    "print('----------')\n",
    "print('soluble reactive phosphorus (µg p/l):', sum(NOAA_full_dat['soluble reactive phosphorus (µg p/l)'].notnull()))"
   ]
  },
  {
   "cell_type": "code",
   "execution_count": null,
   "metadata": {},
   "outputs": [],
   "source": [
    "NOAA_full_dat[NOAA_full_dat['total phosphorus (µg p/l)'].notnull() &\n",
    "              NOAA_full_dat['total dissolved phosphorus (µg p/l)'].notnull() &\n",
    "              NOAA_full_dat['soluble reactive phosphorus (µg p/l)'].notnull()].shape"
   ]
  },
  {
   "cell_type": "markdown",
   "metadata": {},
   "source": [
    "All three phosphorus observations have non-null values for 1002 rows. There are a few rows where there are at least one of these variables are null. "
   ]
  },
  {
   "cell_type": "code",
   "execution_count": null,
   "metadata": {},
   "outputs": [],
   "source": [
    "phos_rows = NOAA_full_dat[['total phosphorus (µg p/l)', 'total dissolved phosphorus (µg p/l)', 'soluble reactive phosphorus (µg p/l)']].dropna(thresh = 1)"
   ]
  },
  {
   "cell_type": "code",
   "execution_count": null,
   "metadata": {
    "scrolled": true
   },
   "outputs": [],
   "source": [
    "NOAA_full_dat.iloc[list(set(list(phos_rows[phos_rows['total phosphorus (µg p/l)'].isnull()].index) + list(phos_rows[phos_rows['total dissolved phosphorus (µg p/l)'].isnull()].index) + list(phos_rows[phos_rows['soluble reactive phosphorus (µg p/l)'].isnull()].index)))]"
   ]
  },
  {
   "cell_type": "code",
   "execution_count": null,
   "metadata": {},
   "outputs": [],
   "source": [
    "NOAA_full_dat.iloc[list(set(list(phos_rows[phos_rows['total phosphorus (µg p/l)'].isnull()].index) + list(phos_rows[phos_rows['total dissolved phosphorus (µg p/l)'].isnull()].index) + list(phos_rows[phos_rows['soluble reactive phosphorus (µg p/l)'].isnull()].index)))].shape"
   ]
  },
  {
   "cell_type": "markdown",
   "metadata": {},
   "source": [
    "### Dissolved Oxygen\n",
    "\n",
    "There are three variables related to dissolved oxygen:\n",
    "- `organic_dissolved_oxygen_saturation (%)`\n",
    "- `organic_dissolved_oxygen (milligrams per liter)`\n",
    "- `ctd dissolved oxygen (mg/l)`"
   ]
  },
  {
   "cell_type": "code",
   "execution_count": null,
   "metadata": {},
   "outputs": [],
   "source": [
    "[var for var in NOAA_full_dat.columns if 'oxy' in var]"
   ]
  },
  {
   "cell_type": "code",
   "execution_count": null,
   "metadata": {},
   "outputs": [],
   "source": [
    "print('organic_dissolved_oxygen_saturation (%):', NOAA_full_dat.loc[NOAA_full_dat['organic_dissolved_oxygen_saturation (%)'].notnull(), 'station'].unique())\n",
    "print('----------')\n",
    "print('organic_dissolved_oxygen (milligrams per liter):', NOAA_full_dat.loc[NOAA_full_dat['organic_dissolved_oxygen (milligrams per liter)'].notnull(), 'station'].unique())\n",
    "print('----------')\n",
    "print('ctd dissolved oxygen (mg/l):', NOAA_full_dat.loc[NOAA_full_dat['ctd dissolved oxygen (mg/l)'].notnull(), 'station'].unique())"
   ]
  },
  {
   "cell_type": "code",
   "execution_count": null,
   "metadata": {
    "scrolled": true
   },
   "outputs": [],
   "source": [
    "# get details on dissolved oxygen variables\n",
    "# NOTE THAT ctd dissolved oxygen is grouped! It's only part of the small boat sets\n",
    "\n",
    "NOAA_full_dat[['organic_dissolved_oxygen_saturation (%)',\n",
    "               'organic_dissolved_oxygen (milligrams per liter)',\n",
    "               'ctd dissolved oxygen (mg/l)']].describe()"
   ]
  },
  {
   "cell_type": "code",
   "execution_count": null,
   "metadata": {},
   "outputs": [],
   "source": [
    "print('Number of rows in which organic dissolved oxygen saturation (%) and (milligrams per liter) are not null:', \n",
    "      NOAA_full_dat.loc[NOAA_full_dat['organic_dissolved_oxygen (milligrams per liter)'].notnull() &\n",
    "                        NOAA_full_dat['organic_dissolved_oxygen_saturation (%)'].notnull()].shape[0])"
   ]
  },
  {
   "cell_type": "markdown",
   "metadata": {},
   "source": [
    "The variables `organic_dissolved_oxygen_saturation (%)` and `organic_dissolved_oxygen (milligrams per liter)` are observations from the WE__ data sets and non-null for the same rows. Since these variables represent the same attribute, I will choose one for organic dissolved oxygen. For the sake of uniformity, I will select the milligram per liter version."
   ]
  },
  {
   "cell_type": "markdown",
   "metadata": {},
   "source": [
    "### pH\n",
    "\n",
    "There are three variables related to pH:\n",
    "- `ph`\n",
    "- `ph_mv (millivolts)`\n",
    "- `ph (pH)`"
   ]
  },
  {
   "cell_type": "code",
   "execution_count": null,
   "metadata": {},
   "outputs": [],
   "source": [
    "print('ph:', NOAA_full_dat.loc[NOAA_full_dat['ph'].notnull(), 'station'].unique())\n",
    "print('----------')\n",
    "print('ph_mv (millivolts):', NOAA_full_dat.loc[NOAA_full_dat['ph_mv (millivolts)'].notnull(), 'station'].unique())\n",
    "print('----------')\n",
    "print('ph (pH):', NOAA_full_dat.loc[NOAA_full_dat['ph (pH)'].notnull(), 'station'].unique())\n",
    "\n",
    "NOAA_full_dat[['ph',\n",
    "               'ph_mv (millivolts)',\n",
    "               'ph (pH)']].describe()"
   ]
  },
  {
   "cell_type": "markdown",
   "metadata": {},
   "source": [
    "All three pH variables are from the WE__ data sets. It seems that `ph` and `ph (pH)` are names referring to the same measurement and so should be merged into one column. Looking at the original individual data sets in the `NOAA_sets` dictionary, 'pH' appears as a measurement unit in WE__ data sets from 2015 onwards. We look at `ph_mv (millivolts)` in more detail. "
   ]
  },
  {
   "cell_type": "code",
   "execution_count": null,
   "metadata": {},
   "outputs": [],
   "source": [
    "# NOAA_full_dat['ph_mv (millivolts)'].astype(float) \n",
    "\n",
    "np.setdiff1d(NOAA_full_dat[NOAA_full_dat['ph_mv (millivolts)'].notnull()].index.tolist(),\n",
    "             NOAA_full_dat[NOAA_full_dat['ph_mv (millivolts)'].str.contains('\\s') == True].index.tolist())\n",
    "\n",
    "NOAA_full_dat[1:3522]['station'].unique()\n",
    "# flag issue again for this!! Could ignore since we can using pH anyway... "
   ]
  },
  {
   "cell_type": "markdown",
   "metadata": {
    "slideshow": {
     "slide_type": "fragment"
    }
   },
   "source": [
    "I will check for which stations and time periods that `ph_mv (millivolts)` are flag values."
   ]
  },
  {
   "cell_type": "code",
   "execution_count": null,
   "metadata": {},
   "outputs": [],
   "source": [
    "ph_mv_check = NOAA_full_dat.loc[NOAA_full_dat['ph_mv (millivolts)'].str.contains('\\s') == True, ['station', 'timestamp (UTC)', 'ph_mv (millivolts)']]\n",
    "ph_mv_check['timestamp year'] = ph_mv_check['timestamp (UTC)'].dt.year \n",
    "print('ph_mv flag values are found in years:', ph_mv_check['timestamp year'].unique())\n",
    "print('ph_mv flag values are found in stations:', ph_mv_check['station'].unique())"
   ]
  },
  {
   "cell_type": "markdown",
   "metadata": {},
   "source": [
    "Could the pH flags be missing in the 2015 sets of WE04, WE08 and WE13?"
   ]
  },
  {
   "cell_type": "code",
   "execution_count": null,
   "metadata": {},
   "outputs": [],
   "source": [
    "print(NOAA_full_dat.loc[NOAA_full_dat['ph_flags'].notnull(), 'timestamp (UTC)'].dt.year.unique())\n",
    "print(NOAA_full_dat.loc[NOAA_full_dat['ph_flags'].notnull(), 'station'].unique())\n",
    "\n",
    "ph_flag_check = NOAA_full_dat.loc[NOAA_full_dat['ph_flags'].notnull()]\n",
    "ph_flag_check['timestamp year'] = NOAA_full_dat['timestamp (UTC)'].dt.year\n",
    "\n",
    "ph_flag_check.groupby(['timestamp year','station']).size()"
   ]
  },
  {
   "cell_type": "code",
   "execution_count": null,
   "metadata": {},
   "outputs": [],
   "source": [
    "print(NOAA_full_dat.loc[NOAA_full_dat['ph_mv (millivolts)'].notnull(), 'timestamp (UTC)'].dt.year.unique())\n",
    "print(NOAA_full_dat.loc[NOAA_full_dat['ph_mv (millivolts)'].notnull(), 'station'].unique())\n",
    "\n",
    "ph_mv_flag_check = NOAA_full_dat.loc[NOAA_full_dat['ph_mv (millivolts)'].notnull()]\n",
    "ph_mv_flag_check['timestamp year'] = NOAA_full_dat['timestamp (UTC)'].dt.year\n",
    "\n",
    "ph_mv_flag_check.groupby(['timestamp year','station']).size()"
   ]
  },
  {
   "cell_type": "code",
   "execution_count": null,
   "metadata": {},
   "outputs": [],
   "source": [
    "NOAA_sets['WE02_2014_annual_summary']['ph_mv (millivolts)'].describe()"
   ]
  },
  {
   "cell_type": "code",
   "execution_count": null,
   "metadata": {},
   "outputs": [],
   "source": [
    "print('Number of non-null rows, WE02 2014:', \n",
    "      NOAA_sets['WE02_2014_annual_summary'][NOAA_sets['WE02_2014_annual_summary']['ph_mv (millivolts)'].notnull()].shape[0])\n",
    "print(NOAA_sets['WE02_2014_annual_summary']['ph_mv (millivolts)'].astype(float))\n",
    "\n",
    "print('---------------')\n",
    "\n",
    "print('Number of non-null rows, WE04 2015:', \n",
    "      NOAA_sets['WE04_2015_annual_summary'][NOAA_sets['WE04_2015_annual_summary']['ph_mv (millivolts)'].notnull()].shape[0])\n",
    "print(NOAA_sets['WE04_2015_annual_summary']['ph_mv (millivolts)'].str.contains('\\s').sum())\n",
    "\n",
    "print('---------------')\n",
    "\n",
    "print('Number of non-null rows, WE08 2015:', \n",
    "      NOAA_sets['WE08_2015_annual_summary'][NOAA_sets['WE08_2015_annual_summary']['ph_mv (millivolts)'].notnull()].shape[0])\n",
    "print(NOAA_sets['WE08_2015_annual_summary']['ph_mv (millivolts)'].str.contains('\\s').sum())\n",
    "\n",
    "print('---------------')\n",
    "\n",
    "print('Number of non-null rows, WE13 2015:', \n",
    "      NOAA_sets['WE13_2015_annual_summary'][NOAA_sets['WE13_2015_annual_summary']['ph_mv (millivolts)'].notnull()].shape[0])\n",
    "print(NOAA_sets['WE13_2015_annual_summary']['ph_mv (millivolts)'].str.contains('\\s').sum())"
   ]
  },
  {
   "cell_type": "markdown",
   "metadata": {},
   "source": [
    "In the 2015 sets for WE04, WE08 and WE13 stations, `ph_mv (millivolts)` contains flag values. Since there is another variable for pH and because only less than 10% of the observations in the merged data set have non-null values for `ph_mv (millivolts)`, I will not use `ph_mv (millivolts)` but use `ph` and `ph (pH)` instead. \n",
    "\n",
    "The `describe` summary for `ph` and show that its mean value is -2.243070 and that its minimum value is -411.275000. This is strange as a pH reading that negative would mean there is a much larger issue than algae blooms in the lake. We will explore the negative readings for `ph` next. "
   ]
  },
  {
   "cell_type": "code",
   "execution_count": null,
   "metadata": {},
   "outputs": [],
   "source": [
    "NOAA_sets['WE02_2015_annual_summary']['ph (pH)'].describe()\n",
    "\n",
    "# there are some particularly low pH readings, check the ecdf of ph (PH)\n",
    "NOAA_sets['WE02_2015_annual_summary']['ph (pH)'].quantile(0.01)"
   ]
  },
  {
   "cell_type": "code",
   "execution_count": null,
   "metadata": {},
   "outputs": [],
   "source": [
    "from statsmodels.distributions.empirical_distribution import ECDF"
   ]
  },
  {
   "cell_type": "code",
   "execution_count": null,
   "metadata": {},
   "outputs": [],
   "source": [
    "print(NOAA_full_dat['ph (pH)'].quantile(0.0201))\n",
    "\n",
    "print(np.where(ECDF(NOAA_full_dat['ph (pH)']).x < 2)[0].max())\n",
    "print(np.where(ECDF(NOAA_full_dat['ph (pH)']).x < 5)[0].max())\n",
    "print(np.where(ECDF(NOAA_full_dat['ph (pH)']).x < 7)[0].max())\n",
    "\n",
    "print('Percentile of ph (pH) observations less than 7:', \n",
    "      sum(NOAA_full_dat['ph (pH)'] < 7)/sum(NOAA_full_dat['ph (pH)'].notnull())) "
   ]
  },
  {
   "cell_type": "code",
   "execution_count": null,
   "metadata": {},
   "outputs": [],
   "source": [
    "print(NOAA_full_dat['ph'].quantile(0.0201))\n",
    "\n",
    "print(np.where(ECDF(NOAA_full_dat['ph']).x < 2)[0].max())\n",
    "print(np.where(ECDF(NOAA_full_dat['ph']).x < 5)[0].max())\n",
    "print(np.where(ECDF(NOAA_full_dat['ph']).x < 7)[0].max())\n",
    "\n",
    "print('Proportion of ph observations less than 7:', \n",
    "      sum(NOAA_full_dat['ph'] < 7)/sum(NOAA_full_dat['ph'].notnull()))"
   ]
  },
  {
   "cell_type": "code",
   "execution_count": null,
   "metadata": {},
   "outputs": [],
   "source": [
    "print(sum(NOAA_full_dat['ph'] < 0)/sum(NOAA_full_dat['ph'].notnull()))\n",
    "\n",
    "print(sum(NOAA_full_dat['ph (pH)'] < 0)/sum(NOAA_full_dat['ph (pH)'].notnull()))"
   ]
  },
  {
   "cell_type": "code",
   "execution_count": null,
   "metadata": {},
   "outputs": [],
   "source": [
    "print('Years with negative ph observations:', NOAA_full_dat.loc[(NOAA_full_dat['ph'].notnull()) & (NOAA_full_dat['ph'] < 0), \n",
    "                                                               'timestamp (UTC)'].dt.year.unique())\n",
    "print('Stations with negative ph observations:', NOAA_full_dat.loc[(NOAA_full_dat['ph'].notnull()) & (NOAA_full_dat['ph'] < 0), \n",
    "                                                               'station'].unique())"
   ]
  },
  {
   "cell_type": "code",
   "execution_count": null,
   "metadata": {},
   "outputs": [],
   "source": [
    "print('Summary of 2014 WE02 ph negative observations:\\n{}\\n'.format(\n",
    "    NOAA_sets['WE02_2014_annual_summary'].loc[(NOAA_sets['WE02_2014_annual_summary']['ph'] < 0), 'ph'].describe()))\n",
    "print('Summary of 2014 WE02 ph non-negative observations:\\n{}'.format(\n",
    "    NOAA_sets['WE02_2014_annual_summary'].loc[(NOAA_sets['WE02_2014_annual_summary']['ph'] >= 0), 'ph'].describe()))"
   ]
  },
  {
   "cell_type": "code",
   "execution_count": null,
   "metadata": {},
   "outputs": [],
   "source": [
    "sum(NOAA_sets['WE02_2014_annual_summary']['ph'].between(6, 7.5, inclusive = True))"
   ]
  },
  {
   "cell_type": "markdown",
   "metadata": {
    "slideshow": {
     "slide_type": "slide"
    }
   },
   "source": [
    "It seems like there is a large chasm between the negative and the non-negative values for `ph` in the 2014 WE02 data set. It is likely that the negative values are not on the pH scale but measurements in millivolts instead! To deal with the negative values, I could set these observations as `NaN` or can create a flag for the negative values. Regardless, the `ph` and `ph (pH)` columns should be merged into one. "
   ]
  },
  {
   "cell_type": "code",
   "execution_count": null,
   "metadata": {},
   "outputs": [],
   "source": [
    "ph_check = NOAA_full_dat.loc[NOAA_full_dat['ph'].notnull()]\n",
    "ph_check['timestamp year'] = NOAA_full_dat['timestamp (UTC)'].dt.year\n",
    "\n",
    "ph_check.groupby(['timestamp year','station']).size()"
   ]
  },
  {
   "cell_type": "code",
   "execution_count": null,
   "metadata": {},
   "outputs": [],
   "source": [
    "ph_units_check = NOAA_full_dat.loc[NOAA_full_dat['ph (pH)'].notnull()]\n",
    "ph_units_check.loc[:,'timestamp year'] = NOAA_full_dat['timestamp (UTC)'].dt.year\n",
    "\n",
    "ph_units_check.groupby(['timestamp year','station']).size()"
   ]
  },
  {
   "cell_type": "code",
   "execution_count": null,
   "metadata": {},
   "outputs": [],
   "source": [
    "# CREATED ph (ph scale) VARIABLE THAT IS COMBINATION OF ph and ph (pH)\n",
    "\n",
    "# First initialize new ph variable using ph as it's more complete and \n",
    "# doesn't have issues with negative pH values\n",
    "NOAA_full_dat.loc[:, 'ph (ph scale)'] = NOAA_full_dat['ph (pH)']\n",
    "\n",
    "# Double check if ph (pH) and ph are mutually exclusive in a given row\n",
    "sum(NOAA_full_dat['ph (pH)'].notnull() & NOAA_full_dat['ph'].notnull())\n",
    "\n",
    "# Include all ph values in the ph (pH) column\n",
    "NOAA_full_dat['ph (ph scale)'].where(\n",
    "    NOAA_full_dat['ph (ph scale)'].notnull(), other = NOAA_full_dat['ph'], inplace = True)\n",
    "\n",
    "# Set negative pH values as NaN in new column ph (ph scale)\n",
    "NOAA_full_dat['ph (ph scale)'].where(\n",
    "    NOAA_full_dat['ph (ph scale)'] >= 0, other = float('NaN'), inplace = True)"
   ]
  },
  {
   "cell_type": "code",
   "execution_count": null,
   "metadata": {},
   "outputs": [],
   "source": [
    "NOAA_full_dat['ph (ph scale)'].describe()\n",
    "print('There are {} pH observations that are greater than 7.'.format(\n",
    "    sum(NOAA_full_dat['ph (ph scale)'] > 7)))"
   ]
  },
  {
   "cell_type": "markdown",
   "metadata": {},
   "source": [
    "### Chlorophyll a\n",
    "\n",
    "There are five variables related to chlorophyll a:\n",
    "- `chlorophylla_rfu (RFU)`\n",
    "- `chlorophylla (micrograms per liter)`\n",
    "- `chlorophylla_c6 (RFU)`\n",
    "- `chlorophylla (RFU)`\n",
    "- `extracted chlorophyll a (µg/l)`"
   ]
  },
  {
   "cell_type": "code",
   "execution_count": null,
   "metadata": {},
   "outputs": [],
   "source": [
    "print('chlorophylla_rfu (RFU):', NOAA_full_dat.loc[NOAA_full_dat['chlorophylla_rfu (RFU)'].notnull(), 'station'].unique())\n",
    "print('----------')\n",
    "print('chlorophylla (micrograms per liter):', NOAA_full_dat.loc[NOAA_full_dat['chlorophylla (micrograms per liter)'].notnull(), 'station'].unique())\n",
    "print('----------')\n",
    "print('chlorophylla_c6 (RFU):', NOAA_full_dat.loc[NOAA_full_dat['chlorophylla_c6 (RFU)'].notnull(), 'station'].unique())\n",
    "print('----------')\n",
    "print('chlorophylla (RFU):', NOAA_full_dat.loc[NOAA_full_dat['chlorophylla (RFU)'].notnull(), 'station'].unique())\n",
    "print('----------')\n",
    "print('extracted chlorophyll a (µg/l):', NOAA_full_dat.loc[NOAA_full_dat['extracted chlorophyll a (µg/l)'].notnull(), 'station'].unique())"
   ]
  },
  {
   "cell_type": "code",
   "execution_count": null,
   "metadata": {},
   "outputs": [],
   "source": [
    "NOAA_full_dat[NOAA_full_dat['chlorophylla_rfu (RFU)'].notnull() &\n",
    "              NOAA_full_dat['chlorophylla (micrograms per liter)']].shape"
   ]
  },
  {
   "cell_type": "code",
   "execution_count": null,
   "metadata": {},
   "outputs": [],
   "source": [
    "# get details on chlorophyll a variables\n",
    "NOAA_full_dat[['chlorophylla_rfu (RFU)',\n",
    "               'chlorophylla (micrograms per liter)',\n",
    "               'chlorophylla_c6 (RFU)',\n",
    "               'chlorophylla (RFU)',\n",
    "               'extracted chlorophyll a (µg/l)']].describe()"
   ]
  },
  {
   "cell_type": "code",
   "execution_count": null,
   "metadata": {
    "scrolled": true
   },
   "outputs": [],
   "source": [
    "NOAA_full_dat.loc[NOAA_full_dat['chlorophylla_rfu (RFU)'].notnull() &\n",
    "              NOAA_full_dat['chlorophylla (micrograms per liter)'].notnull(),\n",
    "             'station']"
   ]
  },
  {
   "cell_type": "code",
   "execution_count": null,
   "metadata": {},
   "outputs": [],
   "source": [
    "NOAA_full_dat[NOAA_full_dat['station'] == 'WE02'].shape"
   ]
  },
  {
   "cell_type": "markdown",
   "metadata": {},
   "source": [
    "The variables `chlorophylla_rfu (RFU)` and `chlorophylla (micrograms per liter)` are from the same data set, WE02. Strangely enough, WE02 has all four variables that are part of the WE__ data sets! The variable `extracted chlorophyll a (µg/l)` is from the small boats data sets.\n",
    "\n",
    "There are negative values in the `chlorophylla (RFU)` data set, which is concerning considering that RFU should not have negative values."
   ]
  },
  {
   "cell_type": "code",
   "execution_count": null,
   "metadata": {},
   "outputs": [],
   "source": [
    "NOAA_full_dat.shape"
   ]
  },
  {
   "cell_type": "markdown",
   "metadata": {},
   "source": [
    "Note RFU = relative fluorescence units. C6 refers to a sampling instrument - Turner C6.\n",
    "\n",
    "**Note: according to the [US Geological Survey](https://waterwatch.usgs.gov/wqwatch/faq?faq_id=5), \"large daily variations in sensor measurements that are not related to chlorophyll concentrations may occur due to changing light and temperature conditions, which affect the fluorescence response of algal cells.\"** Should we use phycocyanin ($\\mu$g/l) as a proxy for chlorophyll concentration then?"
   ]
  },
  {
   "cell_type": "markdown",
   "metadata": {},
   "source": [
    "## Exploratory Data Analysis\n",
    "\n",
    "First, we will explore the univariate relationship between the target variable chlorophyll a and key covariates in the NOAA data sets: water temperature, dissolved oxygen, pH and phosphorus. \n",
    "\n",
    "Phycocyanin is a pigment-protein found in cyanobacteria according to [Science Direct](https://www.sciencedirect.com/topics/agricultural-and-biological-sciences/phycocyanin). Can phycocyanin be seen as a derivative of the response chlorophyll?\n",
    "\n",
    "2020/10/18: for grouping of variables (ex. water temperature, chlorophyll a), the variable with the majority of observations are included in EDA. \n",
    "\n",
    "### Geographic Location of Stations"
   ]
  },
  {
   "cell_type": "code",
   "execution_count": null,
   "metadata": {},
   "outputs": [],
   "source": [
    "import OSMPythonTools as osm\n",
    "# from mpl_toolkits.basemap import Basemap\n",
    "# _geoslib module missing for the mpl_toolkits.basemap import\n",
    "\n",
    "# Cite when you use cartopy \n",
    "import cartopy.crs as ccrs\n",
    "import cartopy.feature as cfeature"
   ]
  },
  {
   "cell_type": "code",
   "execution_count": null,
   "metadata": {},
   "outputs": [],
   "source": [
    "print('Range of latitude degrees: {}, {}'.format(\n",
    "    min(NOAA_full_dat['latitude (decimal deg)']),\n",
    "    max(NOAA_full_dat['latitude (decimal deg)']))\n",
    "     )\n",
    "\n",
    "print('Range of longitude degrees: {}, {}'.format(\n",
    "    min(NOAA_full_dat['longitude (decimal deg)']),\n",
    "    max(NOAA_full_dat['longitude (decimal deg)']))\n",
    "     )"
   ]
  },
  {
   "cell_type": "code",
   "execution_count": null,
   "metadata": {},
   "outputs": [],
   "source": [
    "NOAA_coords_copy = NOAA_coords\n",
    "\n",
    "for k in NOAA_coords_copy.keys():\n",
    "    NOAA_coords_copy[k].rename(columns = {0: 'lon', 1: 'lat'}, inplace = True)\n",
    "    NOAA_coords_copy[k].loc[:,'station'] = k\n",
    "    \n",
    "station_coords = pd.concat(NOAA_coords_copy.values())"
   ]
  },
  {
   "cell_type": "code",
   "execution_count": null,
   "metadata": {},
   "outputs": [],
   "source": [
    "boat_unique_coords = NOAA_full_dat.loc[\n",
    "    NOAA_full_dat['station'].str.contains('boat'), \n",
    "    ['station', 'latitude (decimal deg)', 'longitude (decimal deg)']].groupby(\n",
    "    ['station', 'latitude (decimal deg)', 'longitude (decimal deg)'], as_index = False\n",
    ").size()"
   ]
  },
  {
   "cell_type": "code",
   "execution_count": null,
   "metadata": {},
   "outputs": [],
   "source": [
    "station_coords"
   ]
  },
  {
   "cell_type": "code",
   "execution_count": null,
   "metadata": {},
   "outputs": [],
   "source": [
    "print(boat_unique_coords['size'].value_counts())\n",
    "# compare with 1463, the number of rows in small boat sets\n",
    "\n",
    "print('\\n')\n",
    "print('Number of non-null longitude values:', \n",
    "      NOAA_full_dat.loc[NOAA_full_dat['station'].str.contains('boat'), \n",
    "                        'longitude (decimal deg)'].notnull().sum())\n",
    "\n",
    "print('Number of non-null latitude values:', \n",
    "      NOAA_full_dat.loc[NOAA_full_dat['station'].str.contains('boat'), \n",
    "                        'latitude (decimal deg)'].notnull().sum())"
   ]
  },
  {
   "cell_type": "code",
   "execution_count": null,
   "metadata": {},
   "outputs": [],
   "source": [
    "fig = plt.figure(figsize=(20, 10))\n",
    "\n",
    "# set up map\n",
    "ax = fig.add_subplot(1, 1, 1, projection = ccrs.PlateCarree())\n",
    "\n",
    "# define map boundaries by lon, lat\n",
    "ax.set_extent([min(NOAA_full_dat['longitude (decimal deg)']) - 0.2,\n",
    "               max(NOAA_full_dat['longitude (decimal deg)']) + 0.2, \n",
    "               max(NOAA_full_dat['latitude (decimal deg)']) + 0.2, \n",
    "               min(NOAA_full_dat['latitude (decimal deg)']) - 0.2], \n",
    "              crs = ccrs.PlateCarree()\n",
    "             )\n",
    "\n",
    "# add features to the map\n",
    "ax.add_feature(cfeature.LAND)\n",
    "ax.add_feature(cfeature.COASTLINE)\n",
    "ax.add_feature(cfeature.BORDERS, linestyle=':')\n",
    "ax.add_feature(cfeature.LAKES, alpha=0.75)\n",
    "ax.add_feature(cfeature.RIVERS)\n",
    "\n",
    "# overlay map image\n",
    "ax.stock_img()\n",
    "\n",
    "# plot points for boat observations\n",
    "ax.plot(boat_unique_coords['longitude (decimal deg)'].to_numpy().tolist(), \n",
    "        boat_unique_coords['latitude (decimal deg)'].to_numpy().tolist(),\n",
    "        color='mediumslateblue', marker='.', ls='',\n",
    "        transform=ccrs.Geodetic(),\n",
    "        )\n",
    "\n",
    "# add points for the stations!\n",
    "ax.plot(station_coords['lon'].to_numpy().tolist(), \n",
    "        station_coords['lat'].to_numpy().tolist(),\n",
    "        color='red', marker='o', ls='',\n",
    "        transform=ccrs.Geodetic(),\n",
    "        )\n",
    "\n",
    "# include text for station names\n",
    "for i in range(0, station_coords.shape[0]): \n",
    "    ax.text(station_coords.iloc[i,]['lon'], \n",
    "            station_coords.iloc[i,]['lat'] + 0.02,\n",
    "            s = station_coords.iloc[i,]['station'],\n",
    "            ha = 'center',\n",
    "            transform=ccrs.Geodetic()\n",
    "           )\n",
    "\n",
    "plt.show()"
   ]
  },
  {
   "cell_type": "markdown",
   "metadata": {},
   "source": [
    "There appears to be some observations that are outside of the lake? Will have to double check, starting with the westernmost and southernmost observations. **Note: rivers don't appear on large scale maps!**"
   ]
  },
  {
   "cell_type": "code",
   "execution_count": null,
   "metadata": {},
   "outputs": [],
   "source": [
    "boat_unique_coords.iloc[\n",
    "    boat_unique_coords['longitude (decimal deg)'].nsmallest(keep = 'all').index]\n",
    "\n",
    "boat_unique_coords.iloc[\n",
    "    boat_unique_coords['latitude (decimal deg)'].nsmallest(keep = 'all').index]"
   ]
  },
  {
   "cell_type": "code",
   "execution_count": null,
   "metadata": {},
   "outputs": [],
   "source": [
    "NOAA_full_dat.iloc[\n",
    "    NOAA_full_dat['latitude (decimal deg)'].nsmallest(keep = 'all').index\n",
    "]"
   ]
  },
  {
   "cell_type": "markdown",
   "metadata": {},
   "source": [
    "On Google Maps, these coordinates seem to be on land. "
   ]
  },
  {
   "cell_type": "code",
   "execution_count": null,
   "metadata": {},
   "outputs": [],
   "source": [
    "import pip\n",
    "from pip._internal.utils.misc import get_installed_distributions\n",
    "# [lib for lib in get_installed_distributions() if 'map' in lib]\n",
    "\n",
    "get_installed_distributions()"
   ]
  },
  {
   "cell_type": "markdown",
   "metadata": {},
   "source": [
    "### Water Temperature"
   ]
  },
  {
   "cell_type": "code",
   "execution_count": null,
   "metadata": {},
   "outputs": [],
   "source": [
    "print('There are {} observation pairs for water temperature (degrees Celsius) and chlorophyll a (RFU).'.format(\n",
    " sum(NOAA_full_dat['water_temperature (degrees Celsius)'].notnull() & NOAA_full_dat['water_temperature (degrees Celsius)'].notnull())))"
   ]
  },
  {
   "cell_type": "code",
   "execution_count": null,
   "metadata": {},
   "outputs": [],
   "source": [
    "# Look at scatterplot of chlorophyll a vs water temperature \n",
    "# with colour grouping by year\n",
    "\n",
    "fig, ax = plt.subplots(figsize=(20, 10))\n",
    "\n",
    "sns.scatterplot(x = NOAA_full_dat['chlorophylla (RFU)'], \n",
    "                y = NOAA_full_dat['water_temperature (degrees Celsius)'], \n",
    "                hue = NOAA_full_dat['timestamp (UTC)'].dt.year, \n",
    "                legend = 'full',\n",
    "                palette = 'rainbow', \n",
    "                alpha = 0.3).legend().set_title('Year')\n",
    "\n",
    "# plt.legend(title='Timestamp - Month', loc='lower right')\n",
    "# chlor_wat_temp_plot._legend.set_title('Timestamp Month')\n",
    "\n",
    "plt.title('Scatterplot of Chlorophyll a vs Water Temperature')\n",
    "plt.xlabel('Chlorophyll a (RFU)')\n",
    "plt.ylabel('Water Temperature (Degree Celsius)')\n",
    "plt.show()"
   ]
  },
  {
   "cell_type": "markdown",
   "metadata": {},
   "source": [
    "The majority of observations across the range of water temperature have `chlorophylla (RFU)` less than 20 RFU. The year 2014 has particularly high chlorophyll a measurements. 2018 also seems to have more observations with water temperatures in the 15 to 30 degrees Celsius range; this may be an issue with the data in that there are fewer `NaN` values for the variables `chlorophylla (RFU)` and `water_temperature (degrees Celsius)` in 2018. There seems to be more cooler observations in 2016."
   ]
  },
  {
   "cell_type": "code",
   "execution_count": null,
   "metadata": {
    "scrolled": false
   },
   "outputs": [],
   "source": [
    "# Look at scatterplot of chlorophyll a vs water temperature \n",
    "# with colour grouping by station\n",
    "\n",
    "fig, ax = plt.subplots(figsize=(20, 10))\n",
    "\n",
    "sns.scatterplot(x = NOAA_full_dat['chlorophylla (RFU)'], \n",
    "                y = NOAA_full_dat['water_temperature (degrees Celsius)'], \n",
    "                hue = NOAA_full_dat['station'], \n",
    "                legend = 'full',\n",
    "                palette = sns.color_palette('hls', len(NOAA_full_dat['station'].unique())), \n",
    "                alpha = 0.3)\n",
    "\n",
    "plt.title('Scatterplot of Chlorophyll a vs Water Temperature')\n",
    "plt.xlabel('Chlorophyll a (RFU)')\n",
    "plt.ylabel('Water Temperature (Degree Celsius)')\n",
    "plt.show()"
   ]
  },
  {
   "cell_type": "markdown",
   "metadata": {},
   "source": [
    "Most of the observations with high chlorophyll a readings are from station WE08. "
   ]
  },
  {
   "cell_type": "markdown",
   "metadata": {},
   "source": [
    "### Dissolved Oxygen\n",
    "\n",
    "Used `organic_dissolved_oxygen (milligrams per liter)` for the EDA. "
   ]
  },
  {
   "cell_type": "code",
   "execution_count": null,
   "metadata": {},
   "outputs": [],
   "source": [
    "print('There are {} observation pairs for organic dissolved oxygen (milligrams per liter) and chlorophyll a (RFU).'.format(\n",
    " sum(NOAA_full_dat['water_temperature (degrees Celsius)'].notnull() & NOAA_full_dat['organic_dissolved_oxygen (milligrams per liter)'].notnull())))\n",
    "\n",
    "[var for var in NOAA_full_dat.columns if 'oxy' in var]"
   ]
  },
  {
   "cell_type": "code",
   "execution_count": null,
   "metadata": {},
   "outputs": [],
   "source": [
    "NOAA_full_dat.loc[NOAA_full_dat['timestamp (UTC)'].dt.year == 2018.0,'organic_dissolved_oxygen (milligrams per liter)'].describe()"
   ]
  },
  {
   "cell_type": "code",
   "execution_count": null,
   "metadata": {},
   "outputs": [],
   "source": [
    "# Look at scatterplot of chlorophyll a vs dissolved oxygen concentration \n",
    "# with colour grouping by year\n",
    "\n",
    "fig, ax = plt.subplots(figsize=(20, 10))\n",
    "\n",
    "sns.scatterplot(x = NOAA_full_dat['chlorophylla (RFU)'], \n",
    "                y = NOAA_full_dat['organic_dissolved_oxygen (milligrams per liter)'], \n",
    "                hue = NOAA_full_dat['timestamp (UTC)'].dt.year, \n",
    "                legend = 'full',\n",
    "                palette = 'rainbow', \n",
    "                alpha = 0.3).legend().set_title('Year')\n",
    "\n",
    "plt.title('Scatterplot of Chlorophyll a vs Organic Dissolved Oxygen')\n",
    "plt.xlabel('Chlorophyll a (RFU)')\n",
    "plt.ylabel('Organic Dissolved Oxygen (milligrams/liter)')\n",
    "plt.show()"
   ]
  },
  {
   "cell_type": "markdown",
   "metadata": {},
   "source": [
    "Low dissolved oxygen is usually a consequence of algal growth! From [Science Daily](https://www.sciencedaily.com/terms/algal_bloom.htm): \n",
    "\n",
    ">\"Some algal blooms are the result of an excess of nutrients (particularly phosphorus and nitrogen) into waters and higher concentrations of these nutrients in water cause increased growth of algae and green plants.   \n",
    "As more algae and plants grow, others die.   \n",
    "This dead organic matter becomes food for bacteria that decompose it.  \n",
    "With more food available, the bacteria increase in number and use up the dissolved oxygen in the water.\"\n",
    "\n",
    "Interesting that observations with the highest chlorophyll a readings have higher organic dissolved oxygen. Water temperature and organic dissolve oxygen concentrations are inversely related, so it may be helpful to see a scatterplot of the above but with months as the colour groupings instead of years. \n",
    "\n",
    "We also note there are roughly 6500 fewer observation pairs of (chlorophyll a (RFU), organic_dissolved_oxygen (milligrams per liter)) than (chlorophyll a (RFU), water_temperature (degrees Celsius))."
   ]
  },
  {
   "cell_type": "code",
   "execution_count": null,
   "metadata": {},
   "outputs": [],
   "source": [
    "NOAA_full_dat['timestamp (UTC)'].dt.month.describe()"
   ]
  },
  {
   "cell_type": "code",
   "execution_count": null,
   "metadata": {},
   "outputs": [],
   "source": [
    "# Look at scatterplot of chlorophyll a vs dissolved oxygen\n",
    "# with colour grouping by month\n",
    "\n",
    "fig, ax = plt.subplots(figsize=(20, 10))\n",
    "\n",
    "sns.scatterplot(x = NOAA_full_dat['chlorophylla (RFU)'], \n",
    "                y = NOAA_full_dat['organic_dissolved_oxygen (milligrams per liter)'], \n",
    "                hue = NOAA_full_dat['timestamp (UTC)'].dt.month, \n",
    "                legend = 'full',\n",
    "                palette = 'rainbow', \n",
    "                alpha = 0.3).legend().set_title('Month')\n",
    "\n",
    "plt.title('Scatterplot of Chlorophyll a vs Organic Dissolved Oxygen')\n",
    "plt.xlabel('Chlorophyll a (RFU)')\n",
    "plt.ylabel('Organic Dissolved Oxygen (milligrams/liter)')\n",
    "plt.show()"
   ]
  },
  {
   "cell_type": "markdown",
   "metadata": {},
   "source": [
    "The scatterplot of chlorophyll a vs organic dissolved oxygen with colour groupings by months show that the observations with notably high chlorophyll a readings are from May. Coupling the scatterplot with colour groupings by year above and this scatterplot with colour groupings by month shows that May 2018 had particularly high chlorophyll a observations. Important to note that we cannot view this univariate relationship in a vacuum - there may have been external factors that cause readings to be so elevated!"
   ]
  },
  {
   "cell_type": "markdown",
   "metadata": {},
   "source": [
    "### pH\n",
    "\n",
    "Used `ph (pH scale)` for the EDA. "
   ]
  },
  {
   "cell_type": "code",
   "execution_count": null,
   "metadata": {},
   "outputs": [],
   "source": [
    "print('Summary of ph (ph scale) observations: \\n{}\\n'.format(\n",
    "    NOAA_full_dat['ph (ph scale)'].describe()))\n",
    "print('Summary of ph (ph scale) for observations with chlorophylla (RFU) > 11:\\n{}\\n'.format(\n",
    "    NOAA_full_dat.loc[NOAA_full_dat['ph (ph scale)'] > 11, 'ph (ph scale)'].describe()))\n",
    "print('Summary of ph (ph scale) for observations with chlorophylla (RFU) < 7:\\n{}'.format(\n",
    "    NOAA_full_dat.loc[NOAA_full_dat['ph (ph scale)'] < 7, 'ph (ph scale)'].describe()))"
   ]
  },
  {
   "cell_type": "code",
   "execution_count": null,
   "metadata": {},
   "outputs": [],
   "source": [
    "# Look at scatterplot of chlorophyll a vs pH\n",
    "# with colour grouping by year\n",
    "\n",
    "fig, ax = plt.subplots(figsize=(20, 10))\n",
    "\n",
    "sns.scatterplot(x = NOAA_full_dat['chlorophylla (RFU)'], \n",
    "                y = NOAA_full_dat['ph (ph scale)'], \n",
    "                hue = NOAA_full_dat['timestamp (UTC)'].dt.year, \n",
    "                legend = 'full',\n",
    "                palette = 'rainbow', \n",
    "                alpha = 0.3).legend().set_title('Year')\n",
    "\n",
    "plt.title('Scatterplot of Chlorophyll a vs pH')\n",
    "plt.xlabel('Chlorophyll a (RFU)')\n",
    "plt.ylabel('pH (pH scale)')\n",
    "plt.show()"
   ]
  },
  {
   "cell_type": "code",
   "execution_count": null,
   "metadata": {},
   "outputs": [],
   "source": [
    "fig, ax = plt.subplots(figsize=(20, 10))\n",
    "\n",
    "# plot ECDF of ph (ph scale)\n",
    "NOAA_full_dat['ph (ph scale)'].hist(cumulative=True, density=1, bins=1000, histtype='step')\n",
    "plt.title('ECDF of ph (ph scale)')\n",
    "plt.xlabel('pH (pH scale)')\n",
    "plt.ylabel('% of non-null observations')\n",
    "\n",
    "# add lines denoting 5th, 95th percentile\n",
    "plt.axhline(y=0.05, color = 'r') \n",
    "plt.axhline(y=0.95, color = 'r') \n",
    "\n",
    "plt.show()\n",
    "\n",
    "print(NOAA_full_dat['ph (ph scale)'].quantile([0.05, 0.1, 0.9, 0.95]))"
   ]
  },
  {
   "cell_type": "code",
   "execution_count": null,
   "metadata": {},
   "outputs": [],
   "source": [
    "print(NOAA_full_dat['ph (ph scale)'].quantile([0.02, 0.98]))"
   ]
  },
  {
   "cell_type": "markdown",
   "metadata": {
    "slideshow": {
     "slide_type": "slide"
    }
   },
   "source": [
    "Observations with higher chlorophyll a readings have higher-than-median pH readings. According to the [North Carolina Environmental Quality](https://deq.nc.gov/about/divisions/water-resources/water-resources-data/water-sciences-home-page/ecosystems-branch/algal-blooms), \"high pH (greater than 8.0) can be an indicator of photosynthesis by large quantities of algae\" as algae photosynthesis raise hydroxide levels in the water. 90% of the non-null observations for `ph (ph scale)` lie between 7.92 and 9.35, so pH may not be a strong predictor as the majority of observations have pH within these bounds. "
   ]
  },
  {
   "cell_type": "markdown",
   "metadata": {},
   "source": [
    "### Phosphorus "
   ]
  },
  {
   "cell_type": "code",
   "execution_count": null,
   "metadata": {},
   "outputs": [],
   "source": [
    "NOAA_full_dat.loc[NOAA_full_dat['chlorophylla (RFU)'].notnull() &\n",
    "                 NOAA_full_dat['phosphate (micrograms per liter)'].notnull()]"
   ]
  },
  {
   "cell_type": "code",
   "execution_count": null,
   "metadata": {},
   "outputs": [],
   "source": [
    "# Remember, phosphate timestamp DO NOT align with the rest of the observations in the WE__ data sets\n",
    "# because phosphate records are found in a separate file!\n",
    "\n",
    "fig, ax = plt.subplots()\n",
    "\n",
    "sns.scatterplot(x = NOAA_full_dat['chlorophylla (RFU)'], \n",
    "                y = NOAA_full_dat['phosphate (micrograms per liter)'], \n",
    "                hue = NOAA_full_dat['timestamp (UTC)'].dt.year, \n",
    "                legend = 'full',\n",
    "                palette = 'rainbow', \n",
    "                alpha = 0.3)\n",
    "\n",
    "plt.title('Scatterplot of Chlorophyll a vs Phosphate')\n",
    "plt.xlabel('Chlorophyll a (RFU)')\n",
    "plt.ylabel('Phosphate (micrograms per liter)')\n",
    "plt.show()"
   ]
  },
  {
   "cell_type": "markdown",
   "metadata": {},
   "source": []
  },
  {
   "cell_type": "markdown",
   "metadata": {},
   "source": [
    "# Basin Comparison\n",
    "\n",
    "We compare the measurements from the Western basin and from the Eastern basin. "
   ]
  },
  {
   "cell_type": "markdown",
   "metadata": {},
   "source": [
    "# Scrap Code/Notes\n",
    "\n",
    "Is this the device used to take measurements? https://waterwatch.usgs.gov/wqwatch/faq?faq_id=5"
   ]
  },
  {
   "cell_type": "code",
   "execution_count": null,
   "metadata": {},
   "outputs": [],
   "source": [
    "dirList = os.listdir(noaa_dir)\n",
    "print(dirList)\n",
    "\n",
    "[os.path.isdir(path) for path in\n",
    " [os.path.join(noaa_dir, direct) for direct in dirList]]\n",
    "\n",
    "# Check for differences and similarities in the WE04 2015 and 2016 data sets\n",
    "set(NOAA_sets['WE04_2015_annual_summary'].columns).symmetric_difference(set(NOAA_sets['WE04_2016_annual_summary'].columns))\n",
    "len(set(NOAA_sets['WE04_2015_annual_summary'].columns).intersection(set(NOAA_sets['WE04_2016_annual_summary'].columns)))\n",
    "\n",
    "# Set up wrapper function for fuzzy matching \n",
    "# Inputs are vector of strings and minimum Levenshtein distance to group similar strings\n",
    "def fuzz_set_ratio(strings, min_lev_ratio):\n",
    "    return map(lambda ratio: ratio < min_lev_ratio, map(lambda name: fuzz.token_set_ratio(strings, name), lev_arr))\n",
    "\n",
    "# To get variable names for which Lev ratio is greater than threshold value\n",
    "[NOAA_orig_vars[i] for i in [index for index, value in enumerate(tst_lev_dist) if value > 50]]"
   ]
  }
 ],
 "metadata": {
  "kernelspec": {
   "display_name": "Python 3",
   "language": "python",
   "name": "python3"
  },
  "language_info": {
   "codemirror_mode": {
    "name": "ipython",
    "version": 3
   },
   "file_extension": ".py",
   "mimetype": "text/x-python",
   "name": "python",
   "nbconvert_exporter": "python",
   "pygments_lexer": "ipython3",
   "version": "3.8.6"
  }
 },
 "nbformat": 4,
 "nbformat_minor": 2
}
